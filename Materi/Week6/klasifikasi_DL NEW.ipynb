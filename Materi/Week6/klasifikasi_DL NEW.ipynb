{
  "cells": [
    {
      "cell_type": "code",
      "execution_count": 1,
      "metadata": {
        "id": "H_B50Gcf_A8Y"
      },
      "outputs": [],
      "source": [
        "import keras\n",
        "from keras.models import Model, Sequential, load_model\n",
        "from keras.layers import Dense, Dropout, Flatten\n",
        "from keras.layers import Conv2D, MaxPooling2D, Conv3D, BatchNormalization\n",
        "import tensorflow as tf\n",
        "from keras import backend as K\n",
        "import os\n",
        "from PIL import Image\n",
        "import numpy as np\n",
        "from sklearn.model_selection import train_test_split\n",
        "from sklearn.preprocessing import OneHotEncoder\n",
        "import matplotlib.pyplot as plt\n",
        "from matplotlib.pyplot import imshow\n",
        "import pandas as pd\n",
        "import os.path"
      ]
    },
    {
      "cell_type": "code",
      "execution_count": 2,
      "metadata": {
        "colab": {
          "base_uri": "https://localhost:8080/"
        },
        "id": "6fKw11vS_xsD",
        "outputId": "9c14c383-ebc4-4940-d773-1c9044a44e08"
      },
      "outputs": [
        {
          "output_type": "stream",
          "name": "stdout",
          "text": [
            "Mounted at /content/gdrive\n"
          ]
        }
      ],
      "source": [
        "from google.colab import drive\n",
        "drive.mount('/content/gdrive')"
      ]
    },
    {
      "cell_type": "code",
      "execution_count": 4,
      "metadata": {
        "colab": {
          "base_uri": "https://localhost:8080/"
        },
        "id": "FiNwYrjV_A8e",
        "outputId": "01327d4c-7613-4299-91d6-0aa8ce5952d7"
      },
      "outputs": [
        {
          "output_type": "execute_result",
          "data": {
            "text/plain": [
              "['Clear', 'Haze', 'Underwater']"
            ]
          },
          "metadata": {},
          "execution_count": 4
        }
      ],
      "source": [
        "os.listdir('/content/gdrive/MyDrive/Image Processing [PHB]/Image Classification/23-24/Dataset Klasifikasi/6 Cuaca/All')"
      ]
    },
    {
      "cell_type": "code",
      "execution_count": 5,
      "metadata": {
        "id": "lXYRzQUC_A8i"
      },
      "outputs": [],
      "source": [
        "enc = OneHotEncoder()\n",
        "enc.fit([[0], [1], [2]])\n",
        "def names(number):\n",
        "    if(number == 0):\n",
        "        return 'Clear'\n",
        "    elif(number== 1):\n",
        "        return 'Haze'\n",
        "    else:\n",
        "        return 'Underwater'"
      ]
    },
    {
      "cell_type": "code",
      "execution_count": 11,
      "metadata": {
        "colab": {
          "base_uri": "https://localhost:8080/"
        },
        "id": "ZTjURKe5_A8k",
        "outputId": "1a364f52-6b51-4f5c-e4a5-707511c172b6"
      },
      "outputs": [
        {
          "output_type": "execute_result",
          "data": {
            "text/plain": [
              "15"
            ]
          },
          "metadata": {},
          "execution_count": 11
        }
      ],
      "source": [
        "data = []\n",
        "paths = []\n",
        "label = []\n",
        "for r, d, f in os.walk(\"/content/gdrive/MyDrive/Image Processing [PHB]/Image Classification/23-24/Dataset Klasifikasi/6 Cuaca/All/Clear\"):\n",
        "    for file in f:\n",
        "      if '.jpg' in file:\n",
        "        paths.append(os.path.join(r, file))\n",
        "\n",
        "for path in paths:\n",
        "    img = Image.open(path)\n",
        "    x = img.resize((128,128))\n",
        "    x = np.array(x)\n",
        "    if(x.shape == (128,128,3)):\n",
        "        data.append(np.array(x))\n",
        "        label.append(enc.transform([[0]]).toarray())\n",
        "\n",
        "len(label)"
      ]
    },
    {
      "cell_type": "code",
      "execution_count": 12,
      "metadata": {
        "colab": {
          "base_uri": "https://localhost:8080/"
        },
        "id": "aWq-npPp_A8n",
        "outputId": "0386bcc4-cbb2-410b-936d-37e9df8d5b78"
      },
      "outputs": [
        {
          "output_type": "execute_result",
          "data": {
            "text/plain": [
              "30"
            ]
          },
          "metadata": {},
          "execution_count": 12
        }
      ],
      "source": [
        "paths = []\n",
        "for r, d, f in os.walk(\"/content/gdrive/MyDrive/Image Processing [PHB]/Image Classification/23-24/Dataset Klasifikasi/6 Cuaca/All/Haze\"):\n",
        "    for file in f:\n",
        "        if '.png' in file:\n",
        "            paths.append(os.path.join(r, file))\n",
        "\n",
        "for path in paths:\n",
        "    img = Image.open(path)\n",
        "    x = img.resize((128,128))\n",
        "    x = np.array(x)\n",
        "    if(x.shape == (128,128,3)):\n",
        "        data.append(np.array(x))\n",
        "        label.append(enc.transform([[1]]).toarray())\n",
        "\n",
        "len(label)"
      ]
    },
    {
      "cell_type": "code",
      "execution_count": 13,
      "metadata": {
        "colab": {
          "base_uri": "https://localhost:8080/"
        },
        "id": "wNXqYVI7_A8p",
        "outputId": "e212f26c-be97-42c0-962a-6cb4d0c8fabc"
      },
      "outputs": [
        {
          "output_type": "execute_result",
          "data": {
            "text/plain": [
              "45"
            ]
          },
          "metadata": {},
          "execution_count": 13
        }
      ],
      "source": [
        "paths = []\n",
        "for r, d, f in os.walk('/content/gdrive/MyDrive/Image Processing [PHB]/Image Classification/23-24/Dataset Klasifikasi/6 Cuaca/All/Underwater'):\n",
        "    for file in f:\n",
        "        if '.png' in file:\n",
        "            paths.append(os.path.join(r, file))\n",
        "\n",
        "for path in paths:\n",
        "    img = Image.open(path)\n",
        "    x = img.resize((128,128))\n",
        "    x = np.array(x)\n",
        "    if(x.shape == (128,128,3)):\n",
        "        data.append(np.array(x))\n",
        "        label.append(enc.transform([[2]]).toarray())\n",
        "\n",
        "len(label)"
      ]
    },
    {
      "cell_type": "code",
      "execution_count": 14,
      "metadata": {
        "colab": {
          "base_uri": "https://localhost:8080/"
        },
        "id": "xe6VzvWzM4Tp",
        "outputId": "ea6043fc-e998-4259-df4c-efa35870c85c"
      },
      "outputs": [
        {
          "output_type": "execute_result",
          "data": {
            "text/plain": [
              "(45, 128, 128, 3)"
            ]
          },
          "metadata": {},
          "execution_count": 14
        }
      ],
      "source": [
        "data = np.array(data)\n",
        "data.shape"
      ]
    },
    {
      "cell_type": "code",
      "execution_count": 15,
      "metadata": {
        "colab": {
          "base_uri": "https://localhost:8080/"
        },
        "id": "XM8tjdgMM9EQ",
        "outputId": "a18c07c5-60fd-4fe4-897d-dfdb6249af94"
      },
      "outputs": [
        {
          "output_type": "execute_result",
          "data": {
            "text/plain": [
              "(45, 3)"
            ]
          },
          "metadata": {},
          "execution_count": 15
        }
      ],
      "source": [
        "label = np.array(label)\n",
        "label = label.reshape(len(label),3)\n",
        "\n",
        "label.shape"
      ]
    },
    {
      "cell_type": "code",
      "execution_count": 23,
      "metadata": {
        "id": "5oHFDr4tYJrM"
      },
      "outputs": [],
      "source": [
        "x_train,x_test,y_train,y_test = train_test_split(data, label, test_size=0.2, shuffle=True, random_state=2)"
      ]
    },
    {
      "cell_type": "code",
      "execution_count": 24,
      "metadata": {
        "colab": {
          "base_uri": "https://localhost:8080/"
        },
        "id": "RhAT86mhd3dT",
        "outputId": "530114f6-9ce7-4ea2-d1bb-603afef52084"
      },
      "outputs": [
        {
          "output_type": "stream",
          "name": "stdout",
          "text": [
            "x_train: (36, 128, 128, 3)\n",
            "x_test: (9, 128, 128, 3)\n",
            "y_train: (36, 3)\n",
            "y_test: (9, 3)\n"
          ]
        }
      ],
      "source": [
        "print(\"x_train: \"+str(x_train.shape))\n",
        "print(\"x_test: \"+str(x_test.shape))\n",
        "print(\"y_train: \"+str(y_train.shape))\n",
        "print(\"y_test: \"+str(y_test.shape))"
      ]
    },
    {
      "cell_type": "code",
      "execution_count": 25,
      "metadata": {
        "id": "-aJSI7qUmijC"
      },
      "outputs": [],
      "source": [
        "y_train_ohe = np.array([np.where(r == 1)[0][0] for r in y_train])\n",
        "y_test_ohe = np.array([np.where(r == 1)[0][0] for r in y_test])"
      ]
    },
    {
      "cell_type": "code",
      "execution_count": 26,
      "metadata": {
        "colab": {
          "base_uri": "https://localhost:8080/"
        },
        "id": "aNVVh46qmryh",
        "outputId": "dff21e7a-d059-4824-ab74-7aa86b61701e"
      },
      "outputs": [
        {
          "output_type": "stream",
          "name": "stdout",
          "text": [
            "y_train: (36,)\n",
            "y_test: (9,)\n"
          ]
        }
      ],
      "source": [
        "print(\"y_train: \"+str(y_train_ohe.shape))\n",
        "print(\"y_test: \"+str(y_test_ohe.shape))"
      ]
    },
    {
      "cell_type": "code",
      "execution_count": 27,
      "metadata": {
        "colab": {
          "base_uri": "https://localhost:8080/"
        },
        "id": "CnK42dwvnyZx",
        "outputId": "696746b0-a7f7-40fa-b005-2dfdf050f1d3"
      },
      "outputs": [
        {
          "output_type": "stream",
          "name": "stdout",
          "text": [
            "Model: \"sequential_1\"\n",
            "_________________________________________________________________\n",
            " Layer (type)                Output Shape              Param #   \n",
            "=================================================================\n",
            " conv2d_1 (Conv2D)           (None, 126, 126, 32)      896       \n",
            "                                                                 \n",
            " max_pooling2d_1 (MaxPoolin  (None, 63, 63, 32)        0         \n",
            " g2D)                                                            \n",
            "                                                                 \n",
            " flatten_1 (Flatten)         (None, 127008)            0         \n",
            "                                                                 \n",
            " dense_3 (Dense)             (None, 100)               12700900  \n",
            "                                                                 \n",
            " dense_4 (Dense)             (None, 20)                2020      \n",
            "                                                                 \n",
            " dense_5 (Dense)             (None, 3)                 63        \n",
            "                                                                 \n",
            "=================================================================\n",
            "Total params: 12703879 (48.46 MB)\n",
            "Trainable params: 12703879 (48.46 MB)\n",
            "Non-trainable params: 0 (0.00 Byte)\n",
            "_________________________________________________________________\n",
            "None\n"
          ]
        }
      ],
      "source": [
        "#defining model\n",
        "model=Sequential()\n",
        "\n",
        "#Layer 1\n",
        "#adding convolution layer\n",
        "model.add(Conv2D(32,(3,3),activation='relu',input_shape=(128,128,3)))\n",
        "#adding pooling layer\n",
        "model.add(MaxPooling2D(2,2))\n",
        "\n",
        "#Layer 2\n",
        "\n",
        "\n",
        "#Fully-Connected Layer\n",
        "#adding fully connected layer\n",
        "model.add(Flatten())\n",
        "model.add(Dense(100,activation='relu'))\n",
        "model.add(Dense(20,activation='relu'))\n",
        "#adding output layer\n",
        "model.add(Dense(3,activation='softmax'))\n",
        "model.compile(loss='sparse_categorical_crossentropy', optimizer='adam',  metrics= ['acc'])\n",
        "print(model.summary())"
      ]
    },
    {
      "cell_type": "code",
      "execution_count": 28,
      "metadata": {
        "colab": {
          "base_uri": "https://localhost:8080/"
        },
        "id": "bvm3cEcleIU9",
        "outputId": "de45a225-d681-4334-9f2d-900f01a5cf3c"
      },
      "outputs": [
        {
          "output_type": "stream",
          "name": "stdout",
          "text": [
            "Epoch 1/10\n",
            "5/5 [==============================] - 2s 13ms/step - loss: 2175.3049 - acc: 0.2500\n",
            "Epoch 2/10\n",
            "5/5 [==============================] - 0s 9ms/step - loss: 343.8528 - acc: 0.5833\n",
            "Epoch 3/10\n",
            "5/5 [==============================] - 0s 10ms/step - loss: 311.2560 - acc: 0.6389\n",
            "Epoch 4/10\n",
            "5/5 [==============================] - 0s 10ms/step - loss: 105.9106 - acc: 0.6944\n",
            "Epoch 5/10\n",
            "5/5 [==============================] - 0s 10ms/step - loss: 5.4681 - acc: 0.9722\n",
            "Epoch 6/10\n",
            "5/5 [==============================] - 0s 10ms/step - loss: 7.2145 - acc: 0.9444\n",
            "Epoch 7/10\n",
            "5/5 [==============================] - 0s 10ms/step - loss: 0.0000e+00 - acc: 1.0000\n",
            "Epoch 8/10\n",
            "5/5 [==============================] - 0s 9ms/step - loss: 7.6304 - acc: 0.9722\n",
            "Epoch 9/10\n",
            "5/5 [==============================] - 0s 10ms/step - loss: 15.6056 - acc: 0.9167\n",
            "Epoch 10/10\n",
            "5/5 [==============================] - 0s 11ms/step - loss: 3.3143 - acc: 0.9722\n"
          ]
        },
        {
          "output_type": "execute_result",
          "data": {
            "text/plain": [
              "<keras.src.callbacks.History at 0x79c219750880>"
            ]
          },
          "metadata": {},
          "execution_count": 28
        }
      ],
      "source": [
        "#fitting the model\n",
        "model.fit(x_train,y_train_ohe, batch_size=8, epochs=10)"
      ]
    },
    {
      "cell_type": "code",
      "execution_count": 29,
      "metadata": {
        "colab": {
          "base_uri": "https://localhost:8080/"
        },
        "id": "NTOj4fqic3Kx",
        "outputId": "9b8157d4-8688-4d39-8b67-d4acfbb7f09c"
      },
      "outputs": [
        {
          "output_type": "stream",
          "name": "stdout",
          "text": [
            "1/1 [==============================] - 0s 365ms/step - loss: 129.3904 - acc: 0.6667\n",
            "CNN loss: 33.33%\n",
            "trained model directly, accuracy: 66.67%\n"
          ]
        }
      ],
      "source": [
        "#testing\n",
        "\n",
        "os.environ['TF_CPP_MIN_LOG_LEVEL'] = '3'\n",
        "import tensorflow as tf\n",
        "\n",
        "model.compile(loss='sparse_categorical_crossentropy', optimizer='adam',  metrics= ['acc'])\n",
        "test_scores = model.evaluate(x_test, y_test_ohe, verbose=1)\n",
        "\n",
        "print(\"CNN loss: %.2f%%\" % (100 - test_scores[1] * 100))\n",
        "print(\"trained model directly, accuracy: {:5.2f}%\".format(test_scores[1] * 100))"
      ]
    },
    {
      "cell_type": "code",
      "execution_count": null,
      "metadata": {
        "id": "sPIR45jVoArC"
      },
      "outputs": [],
      "source": [
        "# y_test2 = np.array(y_test)\n",
        "# y_test2 = y_test.reshape(len(y_test),3)"
      ]
    },
    {
      "cell_type": "code",
      "execution_count": null,
      "metadata": {
        "id": "N292PJkpnhUS"
      },
      "outputs": [],
      "source": [
        "# x_train2,x_test2,y_train2,y_test2 = train_test_split(data, label, test_size=0.2, shuffle=True, random_state=2)"
      ]
    },
    {
      "cell_type": "code",
      "execution_count": 34,
      "metadata": {
        "colab": {
          "base_uri": "https://localhost:8080/"
        },
        "id": "gS37f6QhlFTj",
        "outputId": "45e128f2-9bcd-4955-8bb6-c237279bc62a"
      },
      "outputs": [
        {
          "output_type": "stream",
          "name": "stdout",
          "text": [
            "5/5 [==============================] - 0s 6ms/step\n",
            "Accuracy 0.6666666666666666\n",
            "Precision 0.6666666666666666\n",
            "Recall 0.6666666666666666\n",
            "F1-score 0.6666666666666666\n",
            "              precision    recall  f1-score   support\n",
            "\n",
            "       Clear       1.00      0.25      0.40         4\n",
            "        Haze       0.40      1.00      0.57         2\n",
            "  Underwater       1.00      1.00      1.00         3\n",
            "\n",
            "    accuracy                           0.67         9\n",
            "   macro avg       0.80      0.75      0.66         9\n",
            "weighted avg       0.87      0.67      0.64         9\n",
            "\n",
            "Confusion Matrix\n",
            "[[1 3 0]\n",
            " [0 2 0]\n",
            " [0 0 3]]\n"
          ]
        }
      ],
      "source": [
        "#print classification report\n",
        "from sklearn import metrics\n",
        "from imblearn.metrics import sensitivity_specificity_support\n",
        "\n",
        "true_labels = ['Clear','Haze','Underwater']\n",
        "labels = [0,1,2]\n",
        "Y_pred = model.predict(x_test, batch_size=2)\n",
        "preds = np.argmax(Y_pred, axis=1)\n",
        "y_test_non_one_hot = np.argmax(y_test, axis=1)\n",
        "\n",
        "# Save variable\n",
        "acc = metrics.accuracy_score(y_test_non_one_hot, preds)\n",
        "cm = metrics.confusion_matrix(y_test_non_one_hot, preds)\n",
        "f1 = metrics.f1_score(y_test_non_one_hot, preds, average='micro')\n",
        "precision = metrics.precision_score(y_test_non_one_hot, preds, average='micro')\n",
        "recall = metrics.recall_score(y_test_non_one_hot, preds, average='micro')\n",
        "classification_report = metrics.classification_report(y_test_non_one_hot, preds,labels=labels,target_names=true_labels)\n",
        "print(\"Accuracy\", acc)\n",
        "print(\"Precision\", precision)\n",
        "print(\"Recall\", recall)\n",
        "print(\"F1-score\", f1)\n",
        "# print(\"Sensitivity Specificity Macro\", sens_mac)\n",
        "# print(\"Sensitivity Specificity Micro\", sens_mic)\n",
        "# print(\"Sensitivity Specificity Weighted\", sens_weight)\n",
        "print(classification_report)\n",
        "\n",
        "print(\"Confusion Matrix\")\n",
        "print(cm)"
      ]
    }
  ],
  "metadata": {
    "accelerator": "GPU",
    "colab": {
      "provenance": []
    },
    "kernelspec": {
      "display_name": "Python 3",
      "language": "python",
      "name": "python3"
    },
    "language_info": {
      "codemirror_mode": {
        "name": "ipython",
        "version": 3
      },
      "file_extension": ".py",
      "mimetype": "text/x-python",
      "name": "python",
      "nbconvert_exporter": "python",
      "pygments_lexer": "ipython3",
      "version": "3.7.3"
    },
    "toc": {
      "base_numbering": 1,
      "nav_menu": {},
      "number_sections": true,
      "sideBar": true,
      "skip_h1_title": false,
      "title_cell": "Table of Contents",
      "title_sidebar": "Contents",
      "toc_cell": false,
      "toc_position": {},
      "toc_section_display": true,
      "toc_window_display": false
    },
    "varInspector": {
      "cols": {
        "lenName": 16,
        "lenType": 16,
        "lenVar": 40
      },
      "kernels_config": {
        "python": {
          "delete_cmd_postfix": "",
          "delete_cmd_prefix": "del ",
          "library": "var_list.py",
          "varRefreshCmd": "print(var_dic_list())"
        },
        "r": {
          "delete_cmd_postfix": ") ",
          "delete_cmd_prefix": "rm(",
          "library": "var_list.r",
          "varRefreshCmd": "cat(var_dic_list()) "
        }
      },
      "types_to_exclude": [
        "module",
        "function",
        "builtin_function_or_method",
        "instance",
        "_Feature"
      ],
      "window_display": false
    }
  },
  "nbformat": 4,
  "nbformat_minor": 0
}